{
 "cells": [
  {
   "cell_type": "markdown",
   "metadata": {},
   "source": [
    "# PyTorch Tensors"
   ]
  },
  {
   "cell_type": "markdown",
   "metadata": {},
   "source": [
    "- This tutorial briefly describes some basic operations on Tensors in PyTorch. \n",
    "- This [documentation](http://pytorch.org/docs/master/torch.html) from pytorch contains information about all the possible operations on Tensors."
   ]
  },
  {
   "cell_type": "code",
   "execution_count": 1,
   "metadata": {
    "collapsed": true
   },
   "outputs": [],
   "source": [
    "import torch\n",
    "import torch.nn as nn\n",
    "import numpy as np"
   ]
  },
  {
   "cell_type": "markdown",
   "metadata": {},
   "source": [
    "## Getting started with Tensors"
   ]
  },
  {
   "cell_type": "markdown",
   "metadata": {},
   "source": [
    "### Creating a Tensor"
   ]
  },
  {
   "cell_type": "code",
   "execution_count": 2,
   "metadata": {},
   "outputs": [
    {
     "name": "stdout",
     "output_type": "stream",
     "text": [
      "\n",
      " 1  2  3\n",
      " 4  5  6\n",
      "[torch.FloatTensor of size 2x3]\n",
      "\n",
      "shape:  torch.Size([2, 3])\n"
     ]
    }
   ],
   "source": [
    "#Create Torch Tensor from a list\n",
    "x = torch.Tensor([[1,2,3],[4,5,6]])\n",
    "print (x) # prints the tensor\n",
    "print ('shape: ',x.shape) # returns the shape of the tensor. You can also use x.size()"
   ]
  },
  {
   "cell_type": "markdown",
   "metadata": {},
   "source": [
    "- you can use the `.numpy()` function to obtain the numpy array from tensor."
   ]
  },
  {
   "cell_type": "code",
   "execution_count": 3,
   "metadata": {},
   "outputs": [
    {
     "name": "stdout",
     "output_type": "stream",
     "text": [
      "numpy array: \n",
      "[[1. 2. 3.]\n",
      " [4. 5. 6.]]\n"
     ]
    }
   ],
   "source": [
    "print ('numpy array: ')\n",
    "print (x.numpy()) # obtains the numpy array from the pytorch Tensor"
   ]
  },
  {
   "cell_type": "markdown",
   "metadata": {},
   "source": [
    "- The default `torch.Tensor` is a float tensor as you can see above.\n",
    "- You can use `torch.LongTensor` for tensor of integer types."
   ]
  },
  {
   "cell_type": "code",
   "execution_count": 4,
   "metadata": {},
   "outputs": [
    {
     "name": "stdout",
     "output_type": "stream",
     "text": [
      "\n",
      " 1\n",
      " 4\n",
      " 6\n",
      "[torch.LongTensor of size 3]\n",
      "\n",
      "shape:  torch.Size([3])\n",
      "numpy array:  [1 4 6]\n"
     ]
    }
   ],
   "source": [
    "x = torch.LongTensor([1,4,6])\n",
    "print (x) # prints the tensor\n",
    "print ('shape: ', x.shape) # returns the shape of the tensor. You can also use x.size()\n",
    "print ('numpy array: ',x.numpy()) #obtains the numpy array"
   ]
  },
  {
   "cell_type": "markdown",
   "metadata": {},
   "source": [
    "- You can also create Tensors from numpy arrays"
   ]
  },
  {
   "cell_type": "code",
   "execution_count": 5,
   "metadata": {},
   "outputs": [
    {
     "name": "stdout",
     "output_type": "stream",
     "text": [
      "[1. 1. 1. 1. 1.]\n"
     ]
    }
   ],
   "source": [
    "one_arr = np.ones(5) # a numpy array\n",
    "print (one_arr)"
   ]
  },
  {
   "cell_type": "code",
   "execution_count": 6,
   "metadata": {},
   "outputs": [
    {
     "name": "stdout",
     "output_type": "stream",
     "text": [
      "\n",
      " 1\n",
      " 1\n",
      " 1\n",
      " 1\n",
      " 1\n",
      "[torch.DoubleTensor of size 5]\n",
      "\n",
      "torch.Size([5])\n"
     ]
    }
   ],
   "source": [
    "x = torch.from_numpy(one_arr)\n",
    "print (x) \n",
    "print (x.shape) #obtains the shape of the tensor"
   ]
  },
  {
   "cell_type": "code",
   "execution_count": 7,
   "metadata": {},
   "outputs": [
    {
     "name": "stdout",
     "output_type": "stream",
     "text": [
      "[1. 1. 1. 1. 1.]\n"
     ]
    }
   ],
   "source": [
    "print (x.numpy()) #obtains the numpy array from the Tensor"
   ]
  },
  {
   "cell_type": "markdown",
   "metadata": {},
   "source": [
    "### Indexing into a Tensor"
   ]
  },
  {
   "cell_type": "code",
   "execution_count": 8,
   "metadata": {},
   "outputs": [
    {
     "name": "stdout",
     "output_type": "stream",
     "text": [
      "\n",
      "(0 ,.,.) = \n",
      "  0.6733  0.8095  0.4826  0.7762  0.2518\n",
      "  0.7623  0.6694  0.1983  0.4339  0.9340\n",
      "  0.9950  0.1091  0.3859  0.2677  0.8724\n",
      "  0.6042  0.6788  0.4640  0.4108  0.9463\n",
      "\n",
      "(1 ,.,.) = \n",
      "  0.4434  0.7593  0.8383  0.9634  0.5537\n",
      "  0.9513  0.4264  0.6092  0.0246  0.4474\n",
      "  0.1747  0.3231  0.7231  0.7409  0.8272\n",
      "  0.2956  0.0210  0.2378  0.5568  0.9036\n",
      "\n",
      "(2 ,.,.) = \n",
      "  0.5021  0.8497  0.0324  0.3825  0.0973\n",
      "  0.3613  0.3155  0.5155  0.8660  0.9879\n",
      "  0.9271  0.9339  0.0655  0.0728  0.1948\n",
      "  0.7918  0.1789  0.7803  0.3370  0.0860\n",
      "[torch.DoubleTensor of size 3x4x5]\n",
      "\n",
      "shape:  torch.Size([3, 4, 5])\n"
     ]
    }
   ],
   "source": [
    "a = np.random.rand(3,4,5)\n",
    "x = torch.from_numpy(a)\n",
    "print (x)\n",
    "print ('shape: ',x.shape)"
   ]
  },
  {
   "cell_type": "code",
   "execution_count": 9,
   "metadata": {},
   "outputs": [
    {
     "name": "stdout",
     "output_type": "stream",
     "text": [
      "\n",
      " 0.6733  0.8095  0.4826  0.7762  0.2518\n",
      " 0.7623  0.6694  0.1983  0.4339  0.9340\n",
      " 0.9950  0.1091  0.3859  0.2677  0.8724\n",
      " 0.6042  0.6788  0.4640  0.4108  0.9463\n",
      "[torch.DoubleTensor of size 4x5]\n",
      "\n",
      "torch.Size([4, 5])\n"
     ]
    }
   ],
   "source": [
    "# you can index into them like arrays\n",
    "print (x[0]) #gives you a matrix Tensor\n",
    "print (x[0].shape)"
   ]
  },
  {
   "cell_type": "code",
   "execution_count": 10,
   "metadata": {},
   "outputs": [
    {
     "name": "stdout",
     "output_type": "stream",
     "text": [
      "\n",
      " 0.9950\n",
      " 0.1091\n",
      " 0.3859\n",
      " 0.2677\n",
      " 0.8724\n",
      "[torch.DoubleTensor of size 5]\n",
      "\n",
      "torch.Size([5])\n"
     ]
    }
   ],
   "source": [
    "# you can index into them like arrays\n",
    "print (x[0][2]) # gives you a vector Tensor\n",
    "print (x[0][2].shape)"
   ]
  },
  {
   "cell_type": "code",
   "execution_count": 11,
   "metadata": {},
   "outputs": [
    {
     "name": "stdout",
     "output_type": "stream",
     "text": [
      "0.2677072749253966\n"
     ]
    }
   ],
   "source": [
    "print (x[0][2][3]) #this gives you a scalar"
   ]
  },
  {
   "cell_type": "markdown",
   "metadata": {},
   "source": [
    "### Reshaping a Tensor"
   ]
  },
  {
   "cell_type": "markdown",
   "metadata": {},
   "source": [
    "- To reshape a tensor to a different size, you can use the `.view()` function. \n",
    "- The `.view()` function returns a tensor with the same data as the self tensor but of a different size"
   ]
  },
  {
   "cell_type": "code",
   "execution_count": 12,
   "metadata": {},
   "outputs": [
    {
     "name": "stdout",
     "output_type": "stream",
     "text": [
      "\n",
      " 0.0220  0.7731  0.4344  0.9481  0.6275  0.0657\n",
      " 0.3953  0.3793  0.1728  0.3105  0.4176  0.0763\n",
      "[torch.DoubleTensor of size 2x6]\n",
      "\n",
      "shape:  torch.Size([2, 6])\n"
     ]
    }
   ],
   "source": [
    "a = np.random.rand(2,6)\n",
    "x = torch.from_numpy(a)\n",
    "print (x)\n",
    "print ('shape: ',x.shape)"
   ]
  },
  {
   "cell_type": "code",
   "execution_count": 13,
   "metadata": {},
   "outputs": [
    {
     "name": "stdout",
     "output_type": "stream",
     "text": [
      "\n",
      " 0.0220  0.7731  0.4344  0.9481\n",
      " 0.6275  0.0657  0.3953  0.3793\n",
      " 0.1728  0.3105  0.4176  0.0763\n",
      "[torch.DoubleTensor of size 3x4]\n",
      "\n",
      "torch.Size([3, 4])\n"
     ]
    }
   ],
   "source": [
    "y = x.view(3,4) #reshapes it into a tensor of size 3 x 4\n",
    "print (y)\n",
    "print (y.shape)"
   ]
  },
  {
   "cell_type": "code",
   "execution_count": 14,
   "metadata": {},
   "outputs": [
    {
     "name": "stdout",
     "output_type": "stream",
     "text": [
      "\n",
      "(0 ,.,.) = \n",
      "  0.0220  0.7731\n",
      "  0.4344  0.9481\n",
      "  0.6275  0.0657\n",
      "\n",
      "(1 ,.,.) = \n",
      "  0.3953  0.3793\n",
      "  0.1728  0.3105\n",
      "  0.4176  0.0763\n",
      "[torch.DoubleTensor of size 2x3x2]\n",
      "\n",
      "torch.Size([2, 3, 2])\n"
     ]
    }
   ],
   "source": [
    "y = x.view(2,3,2) #reshapes the tensor into 2 x 3 x 2\n",
    "print (y)\n",
    "print (y.shape)"
   ]
  },
  {
   "cell_type": "markdown",
   "metadata": {},
   "source": [
    "- if one of the dimensions is `-1`, as shown below, then its size can be inferred. So, you cannot have multiple -1's in view."
   ]
  },
  {
   "cell_type": "code",
   "execution_count": 15,
   "metadata": {},
   "outputs": [
    {
     "name": "stdout",
     "output_type": "stream",
     "text": [
      "\n",
      " 0.0220  0.7731  0.4344\n",
      " 0.9481  0.6275  0.0657\n",
      " 0.3953  0.3793  0.1728\n",
      " 0.3105  0.4176  0.0763\n",
      "[torch.DoubleTensor of size 4x3]\n",
      "\n",
      "torch.Size([4, 3])\n"
     ]
    }
   ],
   "source": [
    "y = x.view(4,3) #reshapes the tensor into 4x3\n",
    "print (y)\n",
    "print (y.shape)"
   ]
  },
  {
   "cell_type": "code",
   "execution_count": 16,
   "metadata": {},
   "outputs": [
    {
     "name": "stdout",
     "output_type": "stream",
     "text": [
      "\n",
      " 0.0220  0.7731  0.4344\n",
      " 0.9481  0.6275  0.0657\n",
      " 0.3953  0.3793  0.1728\n",
      " 0.3105  0.4176  0.0763\n",
      "[torch.DoubleTensor of size 4x3]\n",
      "\n",
      "torch.Size([4, 3])\n"
     ]
    }
   ],
   "source": [
    "y = x.view(4,-1) #same as above, but the second dimension can be inferred.\n",
    "print (y)\n",
    "print (y.shape)"
   ]
  },
  {
   "cell_type": "markdown",
   "metadata": {},
   "source": [
    "### Operations on Tensors"
   ]
  },
  {
   "cell_type": "markdown",
   "metadata": {},
   "source": [
    "- You can do some basic operations on tensors like arrays"
   ]
  },
  {
   "cell_type": "code",
   "execution_count": 17,
   "metadata": {},
   "outputs": [
    {
     "name": "stdout",
     "output_type": "stream",
     "text": [
      "\n",
      " 0.8764  0.7787  0.3406  0.0979  0.2234\n",
      "[torch.DoubleTensor of size 1x5]\n",
      "\n",
      "torch.Size([1, 5])\n"
     ]
    }
   ],
   "source": [
    "a = np.random.rand(1,5)\n",
    "x = torch.from_numpy(a)\n",
    "print (x)\n",
    "print (x.shape)"
   ]
  },
  {
   "cell_type": "code",
   "execution_count": 18,
   "metadata": {},
   "outputs": [
    {
     "name": "stdout",
     "output_type": "stream",
     "text": [
      "\n",
      " 1  1  1  1  1\n",
      "[torch.DoubleTensor of size 1x5]\n",
      "\n",
      "torch.Size([1, 5])\n"
     ]
    }
   ],
   "source": [
    "b = np.ones((1,5))\n",
    "y = torch.from_numpy(b)\n",
    "print (y)\n",
    "print (y.shape)"
   ]
  },
  {
   "cell_type": "code",
   "execution_count": 19,
   "metadata": {},
   "outputs": [
    {
     "name": "stdout",
     "output_type": "stream",
     "text": [
      "\n",
      " 1.8764  1.7787  1.3406  1.0979  1.2234\n",
      "[torch.DoubleTensor of size 1x5]\n",
      "\n"
     ]
    }
   ],
   "source": [
    "print (x + y) #element wise addition"
   ]
  },
  {
   "cell_type": "code",
   "execution_count": 20,
   "metadata": {},
   "outputs": [
    {
     "name": "stdout",
     "output_type": "stream",
     "text": [
      "\n",
      "-0.1236 -0.2213 -0.6594 -0.9021 -0.7766\n",
      "[torch.DoubleTensor of size 1x5]\n",
      "\n"
     ]
    }
   ],
   "source": [
    "print (x - y) #element wise subtraction"
   ]
  },
  {
   "cell_type": "code",
   "execution_count": 21,
   "metadata": {},
   "outputs": [
    {
     "name": "stdout",
     "output_type": "stream",
     "text": [
      "\n",
      " 0.8764  0.7787  0.3406  0.0979  0.2234\n",
      "[torch.DoubleTensor of size 1x5]\n",
      "\n"
     ]
    }
   ],
   "source": [
    "print (x * y)  #element wise multiplication"
   ]
  },
  {
   "cell_type": "markdown",
   "metadata": {},
   "source": [
    "- Another useful operation on tensors is concatenation.\n",
    "- You can use the `torch.cat()` function, it takes in a list/sequence of tensors and concatenates them"
   ]
  },
  {
   "cell_type": "code",
   "execution_count": 22,
   "metadata": {},
   "outputs": [
    {
     "data": {
      "text/plain": [
       "\n",
       " 0.8764  0.7787  0.3406  0.0979  0.2234\n",
       " 1.0000  1.0000  1.0000  1.0000  1.0000\n",
       "[torch.DoubleTensor of size 2x5]"
      ]
     },
     "execution_count": 22,
     "metadata": {},
     "output_type": "execute_result"
    }
   ],
   "source": [
    "torch.cat([x,y]) # concatenates them along the row (dim=0) by default."
   ]
  },
  {
   "cell_type": "code",
   "execution_count": 23,
   "metadata": {},
   "outputs": [
    {
     "data": {
      "text/plain": [
       "\n",
       " 0.8764  0.7787  0.3406  0.0979  0.2234  1.0000  1.0000  1.0000  1.0000  1.0000\n",
       "[torch.DoubleTensor of size 1x10]"
      ]
     },
     "execution_count": 23,
     "metadata": {},
     "output_type": "execute_result"
    }
   ],
   "source": [
    "torch.cat([x,y], dim=1) # concatenates them along the column when dim=1 is mentioned."
   ]
  },
  {
   "cell_type": "markdown",
   "metadata": {},
   "source": [
    "- If you want to expand a Tensor along the singleton dimension, you can use the `.expand()` function."
   ]
  },
  {
   "cell_type": "code",
   "execution_count": 24,
   "metadata": {},
   "outputs": [
    {
     "name": "stdout",
     "output_type": "stream",
     "text": [
      "\n",
      " 1\n",
      " 2\n",
      " 3\n",
      "[torch.FloatTensor of size 3x1]\n",
      "\n",
      "torch.Size([3, 1])\n"
     ]
    }
   ],
   "source": [
    "x = torch.Tensor([[1],[2],[3]])\n",
    "print (x)\n",
    "print (x.shape)"
   ]
  },
  {
   "cell_type": "code",
   "execution_count": 25,
   "metadata": {},
   "outputs": [
    {
     "data": {
      "text/plain": [
       "\n",
       " 1  1  1  1\n",
       " 2  2  2  2\n",
       " 3  3  3  3\n",
       "[torch.FloatTensor of size 3x4]"
      ]
     },
     "execution_count": 25,
     "metadata": {},
     "output_type": "execute_result"
    }
   ],
   "source": [
    "x.expand(3,4) #expands it along the second dimension from (3 x 1) to be (3 x 4)"
   ]
  },
  {
   "cell_type": "code",
   "execution_count": 26,
   "metadata": {},
   "outputs": [
    {
     "data": {
      "text/plain": [
       "\n",
       " 5  6\n",
       " 5  6\n",
       " 5  6\n",
       " 5  6\n",
       " 5  6\n",
       "[torch.FloatTensor of size 5x2]"
      ]
     },
     "execution_count": 26,
     "metadata": {},
     "output_type": "execute_result"
    }
   ],
   "source": [
    "x = torch.Tensor([5,6]).view(-1,2) #reshaping it to 1 x 2\n",
    "x.expand(5,2) #expands it along the first dimension from (1 x 2) to (5 x 2)"
   ]
  },
  {
   "cell_type": "markdown",
   "metadata": {},
   "source": [
    "- These are the basic operations on the Tensors that will be very useful. You can check the [documentation here](http://pytorch.org/docs/master/torch.html) for all list of operations."
   ]
  }
 ],
 "metadata": {
  "kernelspec": {
   "display_name": "Python 3",
   "language": "python",
   "name": "python3"
  },
  "language_info": {
   "codemirror_mode": {
    "name": "ipython",
    "version": 3
   },
   "file_extension": ".py",
   "mimetype": "text/x-python",
   "name": "python",
   "nbconvert_exporter": "python",
   "pygments_lexer": "ipython3",
   "version": "3.6.4"
  }
 },
 "nbformat": 4,
 "nbformat_minor": 2
}
